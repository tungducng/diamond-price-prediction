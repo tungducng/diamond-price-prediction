{
  "nbformat": 4,
  "nbformat_minor": 0,
  "metadata": {
    "colab": {
      "provenance": []
    },
    "kernelspec": {
      "name": "python3",
      "display_name": "Python 3"
    },
    "language_info": {
      "name": "python"
    }
  },
  "cells": [
    {
      "cell_type": "code",
      "execution_count": null,
      "metadata": {
        "colab": {
          "base_uri": "https://localhost:8080/"
        },
        "id": "fpbSe3Kruz6N",
        "outputId": "ba5d58d3-4278-4180-f9a2-dd9a5ec320b4"
      },
      "outputs": [
        {
          "output_type": "stream",
          "name": "stdout",
          "text": [
            "Requirement already satisfied: pyspark in /usr/local/lib/python3.10/dist-packages (3.5.3)\n",
            "Requirement already satisfied: py4j==0.10.9.7 in /usr/local/lib/python3.10/dist-packages (from pyspark) (0.10.9.7)\n"
          ]
        }
      ],
      "source": [
        "# Cai dat thu vien pyspark\n",
        "!pip install pyspark"
      ]
    },
    {
      "cell_type": "code",
      "source": [
        "# truy cap drive\n",
        "from google.colab import drive\n",
        "drive.mount('/content/drive')"
      ],
      "metadata": {
        "colab": {
          "base_uri": "https://localhost:8080/"
        },
        "id": "gnYRq1u1vDcc",
        "outputId": "22df5c1b-b958-441f-8feb-1cf8a20dd0c5"
      },
      "execution_count": null,
      "outputs": [
        {
          "output_type": "stream",
          "name": "stdout",
          "text": [
            "Drive already mounted at /content/drive; to attempt to forcibly remount, call drive.mount(\"/content/drive\", force_remount=True).\n"
          ]
        }
      ]
    },
    {
      "cell_type": "code",
      "source": [
        "from pyspark.sql import SparkSession\n",
        "\n",
        "# Khởi tạo một SparkSession\n",
        "spark = SparkSession.builder \\\n",
        "    .appName(\"DistributedQueryExample\") \\\n",
        "    .getOrCreate()"
      ],
      "metadata": {
        "id": "P2WtBY13vEfU"
      },
      "execution_count": null,
      "outputs": []
    },
    {
      "cell_type": "code",
      "source": [
        "# Đọc dữ liệu từ file CSV và tạo DataFrame\n",
        "file_path = '/content/drive/MyDrive/Du_lieu/output.csv'\n",
        "df = spark.read.csv(file_path, header=True, inferSchema=True)"
      ],
      "metadata": {
        "id": "QdqrerYovzjM"
      },
      "execution_count": null,
      "outputs": []
    },
    {
      "cell_type": "code",
      "source": [
        "# Đăng ký DataFrame như một bảng tạm thời để sử dụng với Spark SQL\n",
        "df.createOrReplaceTempView(\"orders\")\n",
        "output = spark.sql(\"SELECT * FROM orders\")\n",
        "output.show() # show hết"
      ],
      "metadata": {
        "colab": {
          "base_uri": "https://localhost:8080/"
        },
        "id": "KRbOqvaZwui9",
        "outputId": "aa08aa32-afb7-47aa-bfda-6e7ccf210ea3"
      },
      "execution_count": null,
      "outputs": [
        {
          "output_type": "stream",
          "name": "stdout",
          "text": [
            "+---+-----+-------+-----+-------------------+--------------------+--------------------+-------------------+-------------------+-------------------+\n",
            "|cut|color|clarity|price|              carat|               depth|               table|                  x|                  y|                  z|\n",
            "+---+-----+-------+-----+-------------------+--------------------+--------------------+-------------------+-------------------+-------------------+\n",
            "|4.0|  5.0|    1.0|  326|-1.1993754756261739|-0.17525447896316393| -1.1047442052867857|-1.5926160012053432| -1.578906966589539| -1.605760724167961|\n",
            "|3.0|  5.0|    2.0|  326|-1.2416468161691938| -1.3730226804225496|  1.5922470814822693|-1.6462568948132152|-1.7049807814310218|-1.7794544223523872|\n",
            "|1.0|  5.0|    4.0|  327|-1.1993754756261739| -3.4162743182062028|  3.3902412726616395|  -1.50321451185889|-1.4978595141914426|-1.7794544223523872|\n",
            "|3.0|  1.0|    3.0|  334|-1.0725614539971142| 0.45885809828003815| 0.24375143809774188|-1.3691122778392095| -1.353775154372605|-1.3162712271939179|\n",
            "|1.0|  0.0|    1.0|  335| -1.030290113454094|  1.0929706755232402| 0.24375143809774188| -1.243950192754175|-1.2457118845084776|-1.1425775290094915|\n",
            "|2.0|  0.0|    5.0|  336|-1.1782398053546639|  0.7406859103881274|-0.20574710969710064|-1.6015561501399886|-1.5969175115668937|-1.5333883499244503|\n",
            "|2.0|  1.0|    6.0|  336|-1.1782398053546639|  0.3884011452530146|-0.20574710969710064|-1.5926160012053432| -1.578906966589539|-1.5478628247731523|\n",
            "|2.0|  2.0|    2.0|  337| -1.135968464811644| 0.10657333314492533| -1.1047442052867857|-1.4853342139895989|-1.4618384242367333|-1.4610159756809398|\n",
            "|0.0|  5.0|    3.0|  337|-1.2205111458976838|  2.3611958300096445|  1.5922470814822693| -1.664137192682506|-1.7590124163630858|-1.5189138750757478|\n",
            "|2.0|  2.0|    4.0|  338|-1.1993754756261739| -1.6548504925306389|  1.5922470814822693|-1.5479152565321166|-1.5158700591687977|-1.6636586235627697|\n",
            "|1.0|  0.0|    2.0|  339| -1.051425783725604|  1.5861693467124003| -1.1047442052867857| -1.324411533165983|-1.3087487919292184| -1.171526478706896|\n",
            "|4.0|  0.0|    4.0|  340|-1.1993754756261739|  0.7406859103881274| -0.6552456574919432|-1.6104962990746339|-1.6509491464989576|-1.5623372996218547|\n",
            "|3.0|  4.0|    2.0|  342|-1.2205111458976838| -0.9502809622604131|  1.5922470814822693|-1.6551970437478607|-1.7049807814310218| -1.750505472654983|\n",
            "|4.0|  0.0|    1.0|  344| -1.030290113454094|   0.317944192225996| -1.5542427530816283|-1.2350100438195297|-1.2277013395311225|-1.2004754284043002|\n",
            "|3.0|  5.0|    1.0|  345|-1.2627824864407036| -1.0911948683144552|   2.041745629277112|-1.7356583841596687|-1.7860282338291178|-1.8373523217471959|\n",
            "|3.0|  5.0|    0.0|  345| -1.009154443182584| -0.5979961971253003| 0.24375143809774188|-1.2081895970155936| -1.182674977087736|-1.2438988529504065|\n",
            "|4.0|  1.0|    1.0|  348| -1.051425783725604| 0.17703028617194888| -1.5542427530816283|-1.2707706395581113|-1.2547171569971547|-1.2438988529504065|\n",
            "|1.0|  0.0|    2.0|  351| -1.051425783725604|  1.1634276285502638| -1.5542427530816283|-1.3422918310352732|-1.2997435194405413|-1.2149499032530022|\n",
            "|1.0|  0.0|    2.0|  351| -1.051425783725604|   1.445255440658353| -0.6552456574919432|-1.3422918310352732|-1.3267593369065735|-1.2004754284043002|\n",
            "|2.0|  0.0|    2.0|  351| -1.051425783725604|  0.6702289573611089|  0.6932499858925844|-1.3601721289045643|-1.3177540644178964| -1.272847802647811|\n",
            "+---+-----+-------+-----+-------------------+--------------------+--------------------+-------------------+-------------------+-------------------+\n",
            "only showing top 20 rows\n",
            "\n"
          ]
        }
      ]
    },
    {
      "cell_type": "code",
      "source": [
        "# truy theo dieu kien\n",
        "# SQL đơn giản: SELECT FROM WHERE\n",
        "# result : Bảng dữ liệu\n",
        "#Lọc các dòng có price lớn hơn 1000 và carat nhỏ hơn 1, sau đó sắp xếp theo price giảm dần và carat tăng dần:\n",
        "result1 = df.filter(\"price > 1000 AND carat < 1\") \\\n",
        "            .select(\"cut\", \"color\", \"carat\", \"price\") \\\n",
        "            .orderBy(df['price'].desc(), df['carat'].asc())\n",
        "result1.show()\n",
        "#Lọc các dòng có carat lớn hơn 1\n",
        "result2 = df.filter(\"carat > 1\").select(\"cut\", \"color\", \"carat\", \"price\")\n",
        "result2.show()\n",
        "#Lọc các dòng có price nhỏ hơn 5000 và sắp xếp theo giá trị price giảm dần\n",
        "result3 = df.filter(\"price < 5000\").select(\"cut\", \"color\", \"carat\", \"price\").orderBy(df['price'].desc())\n",
        "result3.show()\n",
        "# Nhóm theo cut và color, sau đó tính tổng carat của từng nhóm\n",
        "result4 = df.filter(\"price > 1000\").select(\"cut\", \"color\", \"carat\").groupby(\"cut\", \"color\").agg({'carat': 'sum'})\n",
        "result4.show()\n",
        "#Kết nối hai DataFrame (result2 và result3) dựa trên cột cut\n",
        "result5 = result2.join(result3, on='cut', how='inner')\n",
        "result5.show()\n"
      ],
      "metadata": {
        "colab": {
          "base_uri": "https://localhost:8080/"
        },
        "id": "HAMDrLF2wTyt",
        "outputId": "c25232f2-bde4-4a67-cc03-42440eb118a9"
      },
      "execution_count": null,
      "outputs": [
        {
          "output_type": "stream",
          "name": "stdout",
          "text": [
            "+---+-----+-------------------+-----+\n",
            "|cut|color|              carat|price|\n",
            "+---+-----+-------------------+-----+\n",
            "|2.0|  6.0| 0.5126138163661329|18542|\n",
            "|3.0|  6.0| 0.5760208271806628|18279|\n",
            "|2.0|  6.0| 0.6182921677236828|18231|\n",
            "|2.0|  6.0| 0.5760208271806628|18114|\n",
            "|2.0|  6.0| 0.7239705190812322|18112|\n",
            "|2.0|  6.0| 0.5760208271806628|17909|\n",
            "|4.0|  6.0| 0.4914781460946229|17590|\n",
            "|1.0|  6.0| 0.7239705190812322|17499|\n",
            "|4.0|  5.0| 0.8719202109818021|17353|\n",
            "|3.0|  6.0| 0.8719202109818021|17192|\n",
            "|2.0|  6.0|0.47034247582311295|17100|\n",
            "|4.0|  6.0| 0.5760208271806628|17042|\n",
            "|4.0|  5.0|  0.956462892067842|16823|\n",
            "|4.0|  6.0|  0.428071135280093|16469|\n",
            "|1.0|  6.0| 0.6182921677236828|16406|\n",
            "|4.0|  5.0| 0.8507845407102921|16256|\n",
            "|4.0|  6.0|  0.914191551524822|16253|\n",
            "|3.0|  6.0|  0.449206805551603|16234|\n",
            "|4.0|  6.0| 0.8507845407102921|16130|\n",
            "|2.0|  6.0|  0.449206805551603|16087|\n",
            "+---+-----+-------------------+-----+\n",
            "only showing top 20 rows\n",
            "\n",
            "+---+-----+------------------+-----+\n",
            "|cut|color|             carat|price|\n",
            "+---+-----+------------------+-----+\n",
            "|0.0|  2.0| 1.484854648855591| 2964|\n",
            "|1.0|  1.0|1.0410055731538819| 3098|\n",
            "|1.0|  5.0|1.5271259893986109| 3105|\n",
            "|0.0|  2.0| 1.484854648855591| 3175|\n",
            "|1.0|  3.0| 1.484854648855591| 3179|\n",
            "|4.0|  2.0| 1.019869902882372| 3355|\n",
            "|3.0|  2.0| 1.484854648855591| 3457|\n",
            "|1.0|  3.0| 1.505990319127101| 3497|\n",
            "|0.0|  2.0|1.5271259893986109| 3504|\n",
            "|3.0|  1.0|1.5271259893986109| 3541|\n",
            "|3.0|  2.0| 1.484854648855591| 3599|\n",
            "|1.0|  1.0| 1.484854648855591| 3696|\n",
            "|3.0|  0.0|1.0832769136969018| 3697|\n",
            "|0.0|  4.0| 1.505990319127101| 3734|\n",
            "|0.0|  4.0| 1.505990319127101| 3734|\n",
            "|0.0|  1.0|1.5271259893986109| 3745|\n",
            "|0.0|  2.0| 1.505990319127101| 3765|\n",
            "|2.0|  4.0|1.0410055731538819| 3774|\n",
            "|3.0|  6.0| 1.484854648855591| 3780|\n",
            "|3.0|  3.0|1.5271259893986109| 3820|\n",
            "+---+-----+------------------+-----+\n",
            "only showing top 20 rows\n",
            "\n",
            "+---+-----+------------------+-----+\n",
            "|cut|color|             carat|price|\n",
            "+---+-----+------------------+-----+\n",
            "|3.0|  2.0|0.5126138163661329| 4999|\n",
            "|4.0|  1.0|0.7873775298957622| 4999|\n",
            "|1.0|  4.0|0.7028348488097222| 4998|\n",
            "|4.0|  1.0|0.8296488704387821| 4998|\n",
            "|2.0|  3.0|0.6394278379951928| 4997|\n",
            "|2.0|  3.0|0.6394278379951928| 4997|\n",
            "|1.0|  3.0|0.6394278379951928| 4997|\n",
            "|2.0|  3.0| 0.428071135280093| 4997|\n",
            "|4.0|  3.0| 0.428071135280093| 4997|\n",
            "|2.0|  4.0|0.4914781460946229| 4996|\n",
            "|2.0|  4.0|0.5548851569091529| 4995|\n",
            "|2.0|  2.0| 0.428071135280093| 4995|\n",
            "|2.0|  2.0| 0.428071135280093| 4995|\n",
            "|2.0|  0.0|1.0621412434253918| 4994|\n",
            "|3.0|  2.0|0.6816991785382127| 4994|\n",
            "|2.0|  6.0| 0.406935465008583| 4993|\n",
            "|1.0|  0.0| 0.914191551524822| 4992|\n",
            "|2.0|  2.0|0.8719202109818021| 4991|\n",
            "|3.0|  5.0| 0.449206805551603| 4991|\n",
            "|3.0|  3.0| 0.956462892067842| 4991|\n",
            "+---+-----+------------------+-----+\n",
            "only showing top 20 rows\n",
            "\n",
            "+---+-----+-------------------+\n",
            "|cut|color|         sum(carat)|\n",
            "+---+-----+-------------------+\n",
            "|2.0|  0.0|  567.0125238866739|\n",
            "|4.0|  6.0|-433.35471592586157|\n",
            "|3.0|  5.0| 226.52512784886412|\n",
            "|0.0|  5.0|  51.05175318312184|\n",
            "|1.0|  1.0| 374.47530292011083|\n",
            "|3.0|  2.0|  1578.187478333274|\n",
            "|4.0|  5.0|-458.65779343671437|\n",
            "|4.0|  2.0|  970.0842872536717|\n",
            "|1.0|  6.0|  91.10426586371071|\n",
            "|0.0|  1.0| 147.05861627212334|\n",
            "|0.0|  4.0|  98.33756206479477|\n",
            "|2.0|  2.0|  883.1448071630223|\n",
            "|1.0|  0.0| 242.41318282844418|\n",
            "|3.0|  1.0| 1325.1519615473317|\n",
            "|2.0|  3.0|  511.7986704788309|\n",
            "|1.0|  4.0|  145.6615445750777|\n",
            "|4.0|  4.0| 39.432498160767864|\n",
            "|1.0|  5.0| 127.48845437666071|\n",
            "|2.0|  4.0| 341.22461541922974|\n",
            "|0.0|  6.0|  50.26678089179536|\n",
            "+---+-----+-------------------+\n",
            "only showing top 20 rows\n",
            "\n",
            "+---+-----+-----------------+-----+-----+--------------------+-----+\n",
            "|cut|color|            carat|price|color|               carat|price|\n",
            "+---+-----+-----------------+-----+-----+--------------------+-----+\n",
            "|0.0|  2.0|1.484854648855591| 2964|  6.0|-0.18486330259369585| 2747|\n",
            "|0.0|  2.0|1.484854648855591| 2964|  3.0|  0.5126138163661329| 2745|\n",
            "|0.0|  2.0|1.484854648855591| 2964|  1.0|   0.428071135280093| 2743|\n",
            "|0.0|  2.0|1.484854648855591| 2964|  1.0| 0.21671443256499348| 2732|\n",
            "|0.0|  2.0|1.484854648855591| 2964|  4.0|-0.16372763232218587| 2724|\n",
            "|0.0|  2.0|1.484854648855591| 2964|  3.0| 0.08990041093593362| 2724|\n",
            "|0.0|  2.0|1.484854648855591| 2964|  3.0|   0.428071135280093| 2723|\n",
            "|0.0|  2.0|1.484854648855591| 2964|  5.0|  -0.036913610693126| 2721|\n",
            "|0.0|  2.0|1.484854648855591| 2964|  2.0|  0.5337494866376429| 2717|\n",
            "|0.0|  2.0|1.484854648855591| 2964|  2.0|-0.20599897286520583| 2717|\n",
            "|0.0|  2.0|1.484854648855591| 2964|  3.0|-0.20599897286520583| 2710|\n",
            "|0.0|  2.0|1.484854648855591| 2964|  4.0|-0.18486330259369585| 2707|\n",
            "|0.0|  2.0|1.484854648855591| 2964|  4.0|-0.10032062150765593| 2700|\n",
            "|0.0|  2.0|1.484854648855591| 2964|  2.0|-0.07918495123614595| 2699|\n",
            "|0.0|  2.0|1.484854648855591| 2964|  5.0|-0.20599897286520583| 2697|\n",
            "|0.0|  2.0|1.484854648855591| 2964|  5.0|-0.20599897286520583| 2697|\n",
            "|0.0|  2.0|1.484854648855591| 2964|  2.0|  -0.036913610693126| 2691|\n",
            "|0.0|  2.0|1.484854648855591| 2964|  3.0| 0.21671443256499348| 2691|\n",
            "|0.0|  2.0|1.484854648855591| 2964|  4.0|-0.16372763232218587| 2691|\n",
            "|0.0|  2.0|1.484854648855591| 2964|  5.0|-0.16372763232218587| 2691|\n",
            "+---+-----+-----------------+-----+-----+--------------------+-----+\n",
            "only showing top 20 rows\n",
            "\n"
          ]
        }
      ]
    },
    {
      "cell_type": "markdown",
      "source": [
        "LẬP BẢNG MÔ TẢ"
      ],
      "metadata": {
        "id": "vhp6d0WDywad"
      }
    },
    {
      "cell_type": "code",
      "source": [
        "# thư viện thêm\n",
        "from pyspark.sql.functions import *\n",
        "from pyspark.sql.types import NumericType\n",
        "from pyspark.sql import Row"
      ],
      "metadata": {
        "id": "B6Xb5YE4yyMV"
      },
      "execution_count": null,
      "outputs": []
    },
    {
      "cell_type": "code",
      "source": [
        "from pyspark.sql import functions as F\n",
        "from pyspark.sql.types import NumericType\n",
        "from pyspark.sql import Row\n",
        "\n",
        "\n",
        "# Kiểm tra nếu SparkContext đã được khởi tạo\n",
        "if 'spark' not in globals():\n",
        "    spark = SparkSession.builder.appName(\"YourAppName\").getOrCreate()\n",
        "\n",
        "# Lấy danh sách các cột số\n",
        "numeric_cols = [f.name for f in df.schema.fields if isinstance(f.dataType, NumericType)]\n",
        "\n",
        "# Tạo list để lưu trữ các Row\n",
        "rows = []\n",
        "\n",
        "for col in numeric_cols:\n",
        "    try:\n",
        "        # Tính toán thống kê cho từng cột và sử dụng show thay vì collect\n",
        "        kq = df.select(\n",
        "            F.max(col).alias('max'),\n",
        "            F.min(col).alias('min'),\n",
        "            F.stddev(col).alias('std'),\n",
        "            F.variance(col).alias('var'),\n",
        "            F.percentile_approx(col, 0.25, 10000000).alias('Q1'),\n",
        "            F.percentile_approx(col, 0.5).alias('Q2'),\n",
        "            F.percentile_approx(col, 0.75).alias('Q3'),\n",
        "            F.mean(col).alias('mean'),        # Trung bình\n",
        "            F.skewness(col).alias('skewness'), # Độ lệch\n",
        "            F.kurtosis(col).alias('kurtosis'), # Độ nhọn\n",
        "            F.count(col).alias('count')       # Số lượng giá trị\n",
        "        ).head()  # Chỉ lấy một dòng\n",
        "\n",
        "        # Kiểm tra nếu có kết quả\n",
        "        if kq:\n",
        "            kq_dict = kq.asDict()\n",
        "\n",
        "            # Chuyển tất cả giá trị sang kiểu float (hoặc double) để tránh lỗi kiểu dữ liệu\n",
        "            rows.append(Row(feature='max', value=float(kq_dict['max']), column=col))\n",
        "            rows.append(Row(feature='min', value=float(kq_dict['min']), column=col))\n",
        "            rows.append(Row(feature='std', value=float(kq_dict['std']), column=col))\n",
        "            rows.append(Row(feature='var', value=float(kq_dict['var']), column=col))\n",
        "            rows.append(Row(feature='Q1', value=float(kq_dict['Q1']), column=col))\n",
        "            rows.append(Row(feature='Q2', value=float(kq_dict['Q2']), column=col))\n",
        "            rows.append(Row(feature='Q3', value=float(kq_dict['Q3']), column=col))\n",
        "            rows.append(Row(feature='mean', value=float(kq_dict['mean']), column=col))         # Trung bình\n",
        "            rows.append(Row(feature='skewness', value=float(kq_dict['skewness']), column=col))  # Độ lệch\n",
        "            rows.append(Row(feature='kurtosis', value=float(kq_dict['kurtosis']), column=col))  # Độ nhọn\n",
        "            rows.append(Row(feature='count', value=float(kq_dict['count']), column=col))        # Số lượng\n",
        "    except Exception as e:\n",
        "        print(f\"Đã xảy ra lỗi khi xử lý cột {col}: {e}\")\n",
        "\n",
        "# Tạo DataFrame từ list các Row\n",
        "summary_df = spark.createDataFrame(rows)\n",
        "\n",
        "# Kiểm tra schema của DataFrame\n",
        "summary_df.printSchema()\n",
        "\n",
        "# Pivot bảng để có dạng mong muốn\n",
        "summary_df = summary_df.groupBy(\"feature\").pivot(\"column\").agg(F.first(\"value\"))\n",
        "\n",
        "# Hiển thị kết quả\n",
        "summary_df.show()\n",
        "\n",
        "\n",
        "# Dừng SparkSession khi hoàn tất\n",
        "spark.stop()"
      ],
      "metadata": {
        "colab": {
          "base_uri": "https://localhost:8080/"
        },
        "id": "xHuloY7c7_DN",
        "outputId": "4da34bc7-9e3e-454c-e6c4-bf8894d344e1"
      },
      "execution_count": null,
      "outputs": [
        {
          "output_type": "stream",
          "name": "stdout",
          "text": [
            "root\n",
            " |-- feature: string (nullable = true)\n",
            " |-- value: double (nullable = true)\n",
            " |-- column: string (nullable = true)\n",
            "\n",
            "+--------+--------------------+-------------------+-------------------+-------------------+--------------------+--------------------+--------------------+--------------------+--------------------+--------------------+\n",
            "| feature|               carat|            clarity|              color|                cut|               depth|               price|               table|                   x|                   y|                   z|\n",
            "+--------+--------------------+-------------------+-------------------+-------------------+--------------------+--------------------+--------------------+--------------------+--------------------+--------------------+\n",
            "|     std|  1.0000093005519834| 1.6468205220747467|  1.701268865131659|  1.115817054691567|  1.0000093005519868|   3985.851342539849|  1.0000093005519923|   1.000009300551988|  1.0000093005519948|  1.0000093005519914|\n",
            "|skewness|  1.1134365853757868| 0.5507639599939786|-0.1902256753565444|-0.7154502052065125|-0.05721136559327675|    1.61848179543409|  0.7154262491788768|  0.3969866270834619|  0.3914571217760929|  0.3935325875651025|\n",
            "|kurtosis|  1.2466512292780356|-0.3954943369736812|  -0.86655844104637|-0.4008248064923552|  3.3381503254273728|  2.1801881247217185|  1.2538596277108143| -0.7043541404809881|  -0.717322310495967|  -0.698837866234356|\n",
            "|   count|             53761.0|            53761.0|            53761.0|            53761.0|             53761.0|             53761.0|             53761.0|             53761.0|             53761.0|             53761.0|\n",
            "|     var|  1.0000186011904673| 2.7120178319265413| 2.8943157514663627|  1.245047699540563|   1.000018601190474|1.5887010924826719E7|   1.000018601190485|  1.0000186011904761|  1.0000186011904897|   1.000018601190483|\n",
            "|      Q2|-0.20599897286520583|                3.0|                3.0|                3.0| 0.03611638011790176|              2401.0|-0.20574710969710064|-0.02808993764240...|-0.02099482604835...|-0.01356849081072...|\n",
            "|     max|   8.903474914155586|                7.0|                6.0|                4.0|   8.350036837306563|             18823.0|   9.683220941789434|   4.477745125418846|   4.328551785982796|  4.9801253319915295|\n",
            "|    mean|-9.74440483289385...|  3.052454381428917|  3.406316846784844|  2.904410260225814|-1.00869815653002...|  3930.8298022730232|-4.44080949415735...|5.185173752225638...|-3.45960206306735...|-1.21974234106188...|\n",
            "|      Q1| -0.8400690810105044|                2.0|                2.0|                2.0| -0.5275392440982768|               950.0| -0.6552456574919432| -0.9131646821722971| -0.9125168024274158| -0.9109859314302565|\n",
            "|      Q3|  0.5126138163661329|                4.0|                5.0|                4.0|  0.5293150513070617|              5322.0|  0.6932499858925844|   0.722882572867801|  0.7264427905118604|  0.7101552516243874|\n",
            "|     min| -1.2627824864407036|                0.0|                0.0|                0.0|   -7.71414845285458|               326.0|  -3.801735492055841|  -1.789299277767541| -1.8490651412498589| -2.1413162935699415|\n",
            "+--------+--------------------+-------------------+-------------------+-------------------+--------------------+--------------------+--------------------+--------------------+--------------------+--------------------+\n",
            "\n"
          ]
        }
      ]
    },
    {
      "cell_type": "markdown",
      "source": [
        " Linear Regression với Spark MLlib\n"
      ],
      "metadata": {
        "id": "ksbfWOyW9qEY"
      }
    },
    {
      "cell_type": "code",
      "source": [
        "from pyspark.sql import SparkSession\n",
        "from pyspark.ml.feature import VectorAssembler\n",
        "from pyspark.ml.regression import LinearRegression\n",
        "from pyspark.ml.evaluation import RegressionEvaluator\n",
        "\n",
        "\n",
        "\n",
        "# Kiểm tra nếu SparkSession đã bị dừng, tạo lại SparkSession\n",
        "try:\n",
        "    spark = SparkSession.builder.getOrCreate()\n",
        "except Exception as e:\n",
        "    print(\"Error in getting Spark session:\", e)\n",
        "    spark = SparkSession.builder.master(\"local[*]\").appName(\"Diamond Price Prediction\").getOrCreate()\n",
        "\n",
        "# Giả sử df là DataFrame của bạn\n",
        "# df = spark.read.csv(\"diamond_data.csv\", header=True, inferSchema=True)\n",
        "\n",
        "# Cập nhật cột đặc trưng và mục tiêu\n",
        "feature_cols = ['carat', 'depth', 'table', 'x', 'y', 'z', 'cut', 'color', 'clarity']  # Cột đặc trưng\n",
        "label_col = 'price'  # Cột mục tiêu (label)\n",
        "\n",
        "# Bước 1: Kiểm tra và loại bỏ cột \"features\" nếu có\n",
        "if \"features\" in df.columns:\n",
        "    df = df.drop(\"features\")\n",
        "\n",
        "# Tạo cột features bằng cách sử dụng VectorAssembler\n",
        "assembler = VectorAssembler(inputCols=feature_cols, outputCol=\"features\")\n",
        "df = assembler.transform(df)\n",
        "\n",
        "# Bước 2: Chia dữ liệu thành tập huấn luyện và kiểm tra\n",
        "train_data, test_data = df.randomSplit([0.8, 0.2], seed=1234)\n",
        "\n",
        "# Bước 3: Tạo mô hình Linear Regression\n",
        "lr = LinearRegression(featuresCol=\"features\", labelCol=label_col)\n",
        "\n",
        "# Bước 4: Huấn luyện mô hình\n",
        "lr_model = lr.fit(train_data)\n",
        "\n",
        "# Bước 5: Dự đoán trên dữ liệu kiểm tra\n",
        "predictions = lr_model.transform(test_data)\n",
        "\n",
        "# Bước 6: Hiển thị kết quả dự đoán\n",
        "predictions.select(\"features\", label_col, \"prediction\").show()\n",
        "\n",
        "# Bước 7: Đánh giá mô hình (MSE, RMSE, R2)\n",
        "evaluator = RegressionEvaluator(labelCol=label_col, predictionCol=\"prediction\", metricName=\"rmse\")\n",
        "rmse = evaluator.evaluate(predictions)\n",
        "print(f\"Root Mean Squared Error (RMSE) trên tập kiểm tra: {rmse}\")\n",
        "\n",
        "# Đánh giá R2\n",
        "evaluator.setMetricName(\"r2\")\n",
        "r2 = evaluator.evaluate(predictions)\n",
        "print(f\"R2 Score trên tập kiểm tra: {r2}\")\n",
        "\n",
        "# Dừng SparkSession khi hoàn tất\n",
        "spark.stop()\n"
      ],
      "metadata": {
        "colab": {
          "base_uri": "https://localhost:8080/"
        },
        "id": "L1DHbG3bDz1K",
        "outputId": "6eef948c-3a5a-4c08-e8f6-acf5cea4ca22"
      },
      "execution_count": null,
      "outputs": [
        {
          "output_type": "stream",
          "name": "stdout",
          "text": [
            "+--------------------+-----+------------------+\n",
            "|            features|price|        prediction|\n",
            "+--------------------+-----+------------------+\n",
            "|[0.11103608120744...| 1334| 757.6712346208718|\n",
            "|[2.18233176781541...| 5083|  9437.06602470076|\n",
            "|[0.49147814609462...| 3149|2854.8686370758055|\n",
            "|[0.59715649745217...| 3302| 3238.888763303011|\n",
            "|[0.72397051908123...| 3403| 4123.020433563479|\n",
            "|[0.87192021098180...| 3984| 4494.561300401276|\n",
            "|[0.66056350826670...| 4056|4089.9085515238557|\n",
            "|[3.64069301654960...|15776|16919.505192659486|\n",
            "|[0.42807113528009...| 3427| 3234.471768950449|\n",
            "|[0.70283484880972...| 4123| 4660.252558288186|\n",
            "|[1.16781959478294...| 5524|6662.6403754325365|\n",
            "|[2.14006042727239...| 8362| 11578.08992464833|\n",
            "|[2.54163816243108...|11189|12131.525369138835|\n",
            "|[2.56277383270259...|11212|12863.659403610525|\n",
            "|[-0.3962200053087...| 1174|156.91987459473796|\n",
            "|[0.23785010283650...| 2854|3011.0031182608172|\n",
            "|[0.44920680555160...| 3886|4051.5032236771626|\n",
            "|[0.59715649745217...| 3980| 4508.845160010771|\n",
            "|[3.15457260030487...|13701|16273.214344568545|\n",
            "|[1.52712598939861...| 7186| 8870.068866070074|\n",
            "+--------------------+-----+------------------+\n",
            "only showing top 20 rows\n",
            "\n",
            "Root Mean Squared Error (RMSE) trên tập kiểm tra: 1164.5259041382146\n",
            "R2 Score trên tập kiểm tra: 0.9139388411461603\n"
          ]
        }
      ]
    },
    {
      "cell_type": "code",
      "source": [
        "from pyspark.sql import SparkSession\n",
        "from pyspark.sql.functions import col\n",
        "from pyspark.ml.feature import VectorAssembler, StringIndexer\n",
        "from pyspark.ml.regression import LinearRegression\n",
        "from pyspark.ml.evaluation import RegressionEvaluator\n",
        "\n",
        "# Tạo hoặc khởi động SparkSession\n",
        "try:\n",
        "    spark = SparkSession.builder.getOrCreate()\n",
        "except Exception as e:\n",
        "    print(\"Error in getting Spark session:\", e)\n",
        "    spark = SparkSession.builder.master(\"local[*]\").appName(\"Diamond Price Prediction\").getOrCreate()\n",
        "\n",
        "# Đọc dữ liệu\n",
        "# Giả sử bạn đã có DataFrame df\n",
        "# df = spark.read.csv(\"diamond_data.csv\", header=True, inferSchema=True)\n",
        "\n",
        "# Hiển thị thông tin dữ liệu\n",
        "df.printSchema()\n",
        "df.show(5)\n",
        "\n",
        "# Kiểm tra các cột phân loại và số\n",
        "categorical_cols = ['cut', 'color', 'clarity']  # Cột phân loại\n",
        "numeric_cols = ['carat', 'depth', 'table', 'x', 'y', 'z']  # Cột số\n",
        "label_col = 'price'  # Cột mục tiêu\n",
        "\n",
        "# Kiểm tra và chuyển đổi kiểu dữ liệu của cột mục tiêu\n",
        "df = df.withColumn(label_col, col(label_col).cast(\"double\"))\n",
        "\n",
        "# Xử lý cột phân loại bằng StringIndexer\n",
        "for col_name in categorical_cols:\n",
        "    indexer = StringIndexer(inputCol=col_name, outputCol=f\"{col_name}_index\")\n",
        "    df = indexer.fit(df).transform(df)\n",
        "\n",
        "# Cập nhật danh sách cột đặc trưng sau khi mã hóa\n",
        "indexed_cols = [f\"{col_name}_index\" for col_name in categorical_cols]\n",
        "feature_cols = numeric_cols + indexed_cols\n",
        "\n",
        "# Loại bỏ giá trị null\n",
        "df = df.na.drop(subset=feature_cols + [label_col])\n",
        "\n",
        "# Tạo cột features bằng VectorAssembler\n",
        "assembler = VectorAssembler(inputCols=feature_cols, outputCol=\"features\")\n",
        "df = assembler.transform(df)\n",
        "\n",
        "# Chia dữ liệu thành tập huấn luyện và kiểm tra\n",
        "train_data, test_data = df.randomSplit([0.8, 0.2], seed=1234)\n",
        "\n",
        "# Kiểm tra số lượng dòng trong các tập dữ liệu\n",
        "print(f\"Số dòng tập huấn luyện: {train_data.count()}\")\n",
        "print(f\"Số dòng tập kiểm tra: {test_data.count()}\")\n",
        "\n",
        "# Tạo mô hình Linear Regression\n",
        "lr = LinearRegression(featuresCol=\"features\", labelCol=label_col)\n",
        "\n",
        "# Huấn luyện mô hình\n",
        "lr_model = lr.fit(train_data)\n",
        "\n",
        "# Dự đoán trên tập kiểm tra\n",
        "predictions = lr_model.transform(test_data)\n",
        "\n",
        "# Hiển thị một số dự đoán\n",
        "predictions.select(\"features\", label_col, \"prediction\").show(5)\n",
        "\n",
        "# Đánh giá mô hình\n",
        "evaluator = RegressionEvaluator(labelCol=label_col, predictionCol=\"prediction\")\n",
        "\n",
        "# Tính RMSE\n",
        "rmse = evaluator.setMetricName(\"rmse\").evaluate(predictions)\n",
        "print(f\"Root Mean Squared Error (RMSE): {rmse}\")\n",
        "\n",
        "# Tính R2\n",
        "r2 = evaluator.setMetricName(\"r2\").evaluate(predictions)\n",
        "print(f\"R2 Score: {r2}\")\n",
        "\n",
        "# Dừng SparkSession khi hoàn tất\n",
        "spark.stop()\n"
      ],
      "metadata": {
        "colab": {
          "base_uri": "https://localhost:8080/"
        },
        "id": "LKEtyF8y9oJr",
        "outputId": "079019d6-8bbd-450e-b845-c3c9496df7c9"
      },
      "execution_count": null,
      "outputs": [
        {
          "output_type": "stream",
          "name": "stdout",
          "text": [
            "root\n",
            " |-- cut: double (nullable = true)\n",
            " |-- color: double (nullable = true)\n",
            " |-- clarity: double (nullable = true)\n",
            " |-- price: integer (nullable = true)\n",
            " |-- carat: double (nullable = true)\n",
            " |-- depth: double (nullable = true)\n",
            " |-- table: double (nullable = true)\n",
            " |-- x: double (nullable = true)\n",
            " |-- y: double (nullable = true)\n",
            " |-- z: double (nullable = true)\n",
            "\n",
            "+---+-----+-------+-----+-------------------+--------------------+-------------------+-------------------+-------------------+-------------------+\n",
            "|cut|color|clarity|price|              carat|               depth|              table|                  x|                  y|                  z|\n",
            "+---+-----+-------+-----+-------------------+--------------------+-------------------+-------------------+-------------------+-------------------+\n",
            "|4.0|  5.0|    1.0|  326|-1.1993754756261739|-0.17525447896316393|-1.1047442052867857|-1.5926160012053432| -1.578906966589539| -1.605760724167961|\n",
            "|3.0|  5.0|    2.0|  326|-1.2416468161691938| -1.3730226804225496| 1.5922470814822693|-1.6462568948132152|-1.7049807814310218|-1.7794544223523872|\n",
            "|1.0|  5.0|    4.0|  327|-1.1993754756261739| -3.4162743182062028| 3.3902412726616395|  -1.50321451185889|-1.4978595141914426|-1.7794544223523872|\n",
            "|3.0|  1.0|    3.0|  334|-1.0725614539971142| 0.45885809828003815|0.24375143809774188|-1.3691122778392095| -1.353775154372605|-1.3162712271939179|\n",
            "|1.0|  0.0|    1.0|  335| -1.030290113454094|  1.0929706755232402|0.24375143809774188| -1.243950192754175|-1.2457118845084776|-1.1425775290094915|\n",
            "+---+-----+-------+-----+-------------------+--------------------+-------------------+-------------------+-------------------+-------------------+\n",
            "only showing top 5 rows\n",
            "\n",
            "Số dòng tập huấn luyện: 43006\n",
            "Số dòng tập kiểm tra: 10755\n",
            "+--------------------+------+------------------+\n",
            "|            features| price|        prediction|\n",
            "+--------------------+------+------------------+\n",
            "|[0.11103608120744...|1334.0|2472.0221043430493|\n",
            "|[2.18233176781541...|5083.0|10596.927501351413|\n",
            "|[0.49147814609462...|3149.0|3609.0474540332225|\n",
            "|[0.59715649745217...|3302.0|3905.4217808485455|\n",
            "|[0.72397051908123...|3403.0| 4987.755126658316|\n",
            "+--------------------+------+------------------+\n",
            "only showing top 5 rows\n",
            "\n",
            "Root Mean Squared Error (RMSE): 1370.2428117242769\n",
            "R2 Score: 0.8808472836517279\n"
          ]
        }
      ]
    },
    {
      "cell_type": "code",
      "source": [
        "from pyspark.sql import SparkSession\n",
        "from pyspark.ml.feature import VectorAssembler\n",
        "from pyspark.ml.regression import LinearRegression\n",
        "from pyspark.ml.evaluation import RegressionEvaluator\n",
        "\n",
        "# Tạo SparkSession\n",
        "spark = SparkSession.builder.master(\"local[*]\").appName(\"Diamond Price Prediction\").getOrCreate()\n",
        "\n",
        "# Giả sử bạn đã có DataFrame df chứa dữ liệu\n",
        "# df = spark.read.csv(\"diamond_data.csv\", header=True, inferSchema=True)\n",
        "\n",
        "# Danh sách các cột đặc trưng và cột mục tiêu\n",
        "feature_cols = ['carat', 'depth', 'table', 'x', 'y', 'z']  # Các cột đặc trưng phải là số\n",
        "label_col = 'price'  # Cột mục tiêu\n",
        "\n",
        "# Tiền xử lý: Chuyển đổi các cột đặc trưng thành một cột vector\n",
        "assembler = VectorAssembler(inputCols=feature_cols, outputCol=\"features\")\n",
        "df = assembler.transform(df)\n",
        "\n",
        "# Chia dữ liệu thành tập huấn luyện và kiểm tra\n",
        "train_data, test_data = df.randomSplit([0.8, 0.2], seed=1234)\n",
        "\n",
        "# Tạo mô hình Linear Regression\n",
        "lr = LinearRegression(featuresCol=\"features\", labelCol=label_col)\n",
        "\n",
        "# Huấn luyện mô hình\n",
        "lr_model = lr.fit(train_data)\n",
        "\n",
        "# Dự đoán trên tập kiểm tra\n",
        "predictions = lr_model.transform(test_data)\n",
        "\n",
        "# Tính toán và in kết quả MSE\n",
        "mse_evaluator = RegressionEvaluator(labelCol=label_col, predictionCol=\"prediction\", metricName=\"mse\")\n",
        "mse = mse_evaluator.evaluate(predictions)\n",
        "print(f\"Mean Squared Error (MSE): {mse}\")\n",
        "\n",
        "# Tính toán và in kết quả RMSE\n",
        "rmse_evaluator = RegressionEvaluator(labelCol=label_col, predictionCol=\"prediction\", metricName=\"rmse\")\n",
        "rmse = rmse_evaluator.evaluate(predictions)\n",
        "print(f\"Root Mean Squared Error (RMSE): {rmse}\")\n",
        "\n",
        "# Tính toán và in kết quả R2\n",
        "r2_evaluator = RegressionEvaluator(labelCol=label_col, predictionCol=\"prediction\", metricName=\"r2\")\n",
        "r2 = r2_evaluator.evaluate(predictions)\n",
        "print(f\"R2 Score: {r2}\")\n",
        "\n",
        "# Dừng SparkSession\n",
        "spark.stop()\n"
      ],
      "metadata": {
        "colab": {
          "base_uri": "https://localhost:8080/"
        },
        "id": "eFSAeTXcAVrU",
        "outputId": "1e18ef13-fb82-4fa8-8f48-3d8c342d10ab"
      },
      "execution_count": null,
      "outputs": [
        {
          "output_type": "stream",
          "name": "stdout",
          "text": [
            "Mean Squared Error (MSE): 2066654.9010969105\n",
            "Root Mean Squared Error (RMSE): 1437.5864847364526\n",
            "R2 Score: 0.8688474180116172\n"
          ]
        }
      ]
    }
  ]
}